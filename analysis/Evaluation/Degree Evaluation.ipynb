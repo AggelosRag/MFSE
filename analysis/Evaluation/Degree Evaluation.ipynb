{
 "cells": [
  {
   "cell_type": "code",
   "execution_count": 78,
   "id": "47d14220-9e67-4311-8b13-184aa8f6e8e9",
   "metadata": {},
   "outputs": [],
   "source": [
    "import matplotlib.pyplot as plt\n",
    "import pickle\n",
    "import numpy as np\n",
    "import csv\n",
    "import torch\n",
    "import pandas as pd\n",
    "import scipy.sparse as sp\n",
    "import plotly"
   ]
  },
  {
   "cell_type": "code",
   "execution_count": 79,
   "id": "a9ee6e67-3823-492e-ae7f-d63cb9e4fec6",
   "metadata": {},
   "outputs": [],
   "source": [
    "import sys\n",
    "import os\n",
    "\n",
    "module_path = os.path.abspath(os.path.join('..'))\n",
    "if module_path not in sys.path:\n",
    "    sys.path.append(module_path)"
   ]
  },
  {
   "cell_type": "code",
   "execution_count": 80,
   "id": "56e01eb7-4b16-4f46-9fb0-34e047d3d23d",
   "metadata": {},
   "outputs": [],
   "source": [
    "with open('../../saved_records/record_per_se_degree_v_full_final_0.pkl', 'rb') as f:\n",
    "    full_model_record = pickle.load(f)\n",
    "with open('../../saved_records/record_per_se_degree_v_full_final_0_ddionly.pkl', 'rb') as f:\n",
    "    ddionly_model_record = pickle.load(f)"
   ]
  },
  {
   "cell_type": "code",
   "execution_count": 81,
   "id": "5186f5ca-3c93-4482-aace-dbaa004d8174",
   "metadata": {},
   "outputs": [],
   "source": [
    "def process_results(record):\n",
    "    dic = {}\n",
    "    num_pos_edges = []\n",
    "    num_neg_edges = []\n",
    "    side_effect_type_list = []\n",
    "    bin_list = []\n",
    "    auroc_list = []\n",
    "    auprc_list = []\n",
    "\n",
    "    for side_effect_type, side_effect_dict in record.items():\n",
    "        for cluster, deg_dict in side_effect_dict.items():\n",
    "            if deg_dict['results'] == {}:\n",
    "                continue\n",
    "            auroc_list.append(deg_dict['results']['auroc'])\n",
    "            auprc_list.append(deg_dict['results']['auprc'])\n",
    "            side_effect_type_list.append(side_effect_type)\n",
    "            bin_list.append(cluster)\n",
    "            num_pos_edges.append(int(deg_dict['num_pos_edges']))\n",
    "            num_neg_edges.append(int(deg_dict['num_neg_edges']))\n",
    "    return dic, num_pos_edges, num_neg_edges, side_effect_type_list, bin_list, auroc_list, auprc_list\n",
    "\n",
    "dic, num_pos_edges, num_neg_edges, side_effect_type_list, bin_list, auroc_list, auprc_list = process_results(full_model_record)\n",
    "dic2, num_pos_edges2, num_neg_edges2, side_effect_type_list2, bin_list2, auroc_list2, auprc_list2 = process_results(ddionly_model_record)"
   ]
  },
  {
   "cell_type": "code",
   "execution_count": 82,
   "id": "c17803d3-d20e-47db-91e8-4c07ab3ef0a9",
   "metadata": {},
   "outputs": [
    {
     "data": {
      "text/html": [
       "<div>\n",
       "<style scoped>\n",
       "    .dataframe tbody tr th:only-of-type {\n",
       "        vertical-align: middle;\n",
       "    }\n",
       "\n",
       "    .dataframe tbody tr th {\n",
       "        vertical-align: top;\n",
       "    }\n",
       "\n",
       "    .dataframe thead th {\n",
       "        text-align: right;\n",
       "    }\n",
       "</style>\n",
       "<table border=\"1\" class=\"dataframe\">\n",
       "  <thead>\n",
       "    <tr style=\"text-align: right;\">\n",
       "      <th></th>\n",
       "      <th>side_effect_type</th>\n",
       "      <th>bin</th>\n",
       "      <th>num_pos_edges</th>\n",
       "      <th>num_neg_edges</th>\n",
       "      <th>auroc</th>\n",
       "      <th>auprc</th>\n",
       "    </tr>\n",
       "  </thead>\n",
       "  <tbody>\n",
       "    <tr>\n",
       "      <th>0</th>\n",
       "      <td>(drug, side_effect_0, drug)</td>\n",
       "      <td>0</td>\n",
       "      <td>80</td>\n",
       "      <td>889</td>\n",
       "      <td>0.957227</td>\n",
       "      <td>0.639805</td>\n",
       "    </tr>\n",
       "    <tr>\n",
       "      <th>1</th>\n",
       "      <td>(drug, side_effect_0, drug)</td>\n",
       "      <td>2</td>\n",
       "      <td>1929</td>\n",
       "      <td>729</td>\n",
       "      <td>0.864315</td>\n",
       "      <td>0.927842</td>\n",
       "    </tr>\n",
       "    <tr>\n",
       "      <th>2</th>\n",
       "      <td>(drug, side_effect_0, drug)</td>\n",
       "      <td>1</td>\n",
       "      <td>465</td>\n",
       "      <td>856</td>\n",
       "      <td>0.916471</td>\n",
       "      <td>0.820055</td>\n",
       "    </tr>\n",
       "    <tr>\n",
       "      <th>3</th>\n",
       "      <td>(drug, side_effect_1, drug)</td>\n",
       "      <td>0</td>\n",
       "      <td>150</td>\n",
       "      <td>1537</td>\n",
       "      <td>0.955949</td>\n",
       "      <td>0.682291</td>\n",
       "    </tr>\n",
       "    <tr>\n",
       "      <th>4</th>\n",
       "      <td>(drug, side_effect_1, drug)</td>\n",
       "      <td>2</td>\n",
       "      <td>3101</td>\n",
       "      <td>1251</td>\n",
       "      <td>0.857507</td>\n",
       "      <td>0.919778</td>\n",
       "    </tr>\n",
       "    <tr>\n",
       "      <th>...</th>\n",
       "      <td>...</td>\n",
       "      <td>...</td>\n",
       "      <td>...</td>\n",
       "      <td>...</td>\n",
       "      <td>...</td>\n",
       "      <td>...</td>\n",
       "    </tr>\n",
       "    <tr>\n",
       "      <th>3286</th>\n",
       "      <td>(drug, side_effect_1095, drug)</td>\n",
       "      <td>2</td>\n",
       "      <td>81</td>\n",
       "      <td>30</td>\n",
       "      <td>0.944033</td>\n",
       "      <td>0.980641</td>\n",
       "    </tr>\n",
       "    <tr>\n",
       "      <th>3287</th>\n",
       "      <td>(drug, side_effect_1095, drug)</td>\n",
       "      <td>1</td>\n",
       "      <td>20</td>\n",
       "      <td>45</td>\n",
       "      <td>0.933333</td>\n",
       "      <td>0.856431</td>\n",
       "    </tr>\n",
       "    <tr>\n",
       "      <th>3288</th>\n",
       "      <td>(drug, side_effect_1096, drug)</td>\n",
       "      <td>0</td>\n",
       "      <td>1</td>\n",
       "      <td>36</td>\n",
       "      <td>1.000000</td>\n",
       "      <td>1.000000</td>\n",
       "    </tr>\n",
       "    <tr>\n",
       "      <th>3289</th>\n",
       "      <td>(drug, side_effect_1096, drug)</td>\n",
       "      <td>2</td>\n",
       "      <td>111</td>\n",
       "      <td>41</td>\n",
       "      <td>0.927928</td>\n",
       "      <td>0.968103</td>\n",
       "    </tr>\n",
       "    <tr>\n",
       "      <th>3290</th>\n",
       "      <td>(drug, side_effect_1096, drug)</td>\n",
       "      <td>1</td>\n",
       "      <td>16</td>\n",
       "      <td>49</td>\n",
       "      <td>0.993622</td>\n",
       "      <td>0.983135</td>\n",
       "    </tr>\n",
       "  </tbody>\n",
       "</table>\n",
       "<p>3291 rows × 6 columns</p>\n",
       "</div>"
      ],
      "text/plain": [
       "                    side_effect_type  bin  num_pos_edges  num_neg_edges  \\\n",
       "0        (drug, side_effect_0, drug)    0             80            889   \n",
       "1        (drug, side_effect_0, drug)    2           1929            729   \n",
       "2        (drug, side_effect_0, drug)    1            465            856   \n",
       "3        (drug, side_effect_1, drug)    0            150           1537   \n",
       "4        (drug, side_effect_1, drug)    2           3101           1251   \n",
       "...                              ...  ...            ...            ...   \n",
       "3286  (drug, side_effect_1095, drug)    2             81             30   \n",
       "3287  (drug, side_effect_1095, drug)    1             20             45   \n",
       "3288  (drug, side_effect_1096, drug)    0              1             36   \n",
       "3289  (drug, side_effect_1096, drug)    2            111             41   \n",
       "3290  (drug, side_effect_1096, drug)    1             16             49   \n",
       "\n",
       "         auroc     auprc  \n",
       "0     0.957227  0.639805  \n",
       "1     0.864315  0.927842  \n",
       "2     0.916471  0.820055  \n",
       "3     0.955949  0.682291  \n",
       "4     0.857507  0.919778  \n",
       "...        ...       ...  \n",
       "3286  0.944033  0.980641  \n",
       "3287  0.933333  0.856431  \n",
       "3288  1.000000  1.000000  \n",
       "3289  0.927928  0.968103  \n",
       "3290  0.993622  0.983135  \n",
       "\n",
       "[3291 rows x 6 columns]"
      ]
     },
     "execution_count": 82,
     "metadata": {},
     "output_type": "execute_result"
    }
   ],
   "source": [
    "pd.set_option('display.max_rows', 20)\n",
    "\n",
    "data = {'side_effect_type': side_effect_type_list,\n",
    "        'bin': bin_list,\n",
    "        'num_pos_edges': num_pos_edges,\n",
    "        'num_neg_edges': num_neg_edges,\n",
    "        'auroc': auroc_list,\n",
    "        'auprc': auprc_list\n",
    "       }\n",
    "df = pd.DataFrame.from_dict(data)\n",
    "\n",
    "data2 = {'side_effect_type': side_effect_type_list2,\n",
    "        'bin': bin_list2,\n",
    "        'num_pos_edges': num_pos_edges2,\n",
    "        'num_neg_edges': num_neg_edges2,\n",
    "        'auroc': auroc_list2,\n",
    "        'auprc': auprc_list2\n",
    "       }\n",
    "df2 = pd.DataFrame.from_dict(data2)\n",
    "\n",
    "df"
   ]
  },
  {
   "cell_type": "code",
   "execution_count": 83,
   "id": "6a03f796-8f21-4a25-8d00-c206b0dff46b",
   "metadata": {},
   "outputs": [
    {
     "data": {
      "text/html": [
       "<div>\n",
       "<style scoped>\n",
       "    .dataframe tbody tr th:only-of-type {\n",
       "        vertical-align: middle;\n",
       "    }\n",
       "\n",
       "    .dataframe tbody tr th {\n",
       "        vertical-align: top;\n",
       "    }\n",
       "\n",
       "    .dataframe thead th {\n",
       "        text-align: right;\n",
       "    }\n",
       "</style>\n",
       "<table border=\"1\" class=\"dataframe\">\n",
       "  <thead>\n",
       "    <tr style=\"text-align: right;\">\n",
       "      <th></th>\n",
       "      <th>side_effect_type</th>\n",
       "      <th>bin</th>\n",
       "      <th>num_pos_edges</th>\n",
       "      <th>num_neg_edges</th>\n",
       "      <th>auroc</th>\n",
       "      <th>auprc</th>\n",
       "    </tr>\n",
       "  </thead>\n",
       "  <tbody>\n",
       "    <tr>\n",
       "      <th>0</th>\n",
       "      <td>(drug, side_effect_0, drug)</td>\n",
       "      <td>0</td>\n",
       "      <td>80</td>\n",
       "      <td>889</td>\n",
       "      <td>0.952826</td>\n",
       "      <td>0.542874</td>\n",
       "    </tr>\n",
       "    <tr>\n",
       "      <th>1</th>\n",
       "      <td>(drug, side_effect_0, drug)</td>\n",
       "      <td>2</td>\n",
       "      <td>1929</td>\n",
       "      <td>729</td>\n",
       "      <td>0.854319</td>\n",
       "      <td>0.924323</td>\n",
       "    </tr>\n",
       "    <tr>\n",
       "      <th>2</th>\n",
       "      <td>(drug, side_effect_0, drug)</td>\n",
       "      <td>1</td>\n",
       "      <td>465</td>\n",
       "      <td>856</td>\n",
       "      <td>0.912052</td>\n",
       "      <td>0.776672</td>\n",
       "    </tr>\n",
       "    <tr>\n",
       "      <th>3</th>\n",
       "      <td>(drug, side_effect_1, drug)</td>\n",
       "      <td>0</td>\n",
       "      <td>150</td>\n",
       "      <td>1537</td>\n",
       "      <td>0.954669</td>\n",
       "      <td>0.640547</td>\n",
       "    </tr>\n",
       "    <tr>\n",
       "      <th>4</th>\n",
       "      <td>(drug, side_effect_1, drug)</td>\n",
       "      <td>2</td>\n",
       "      <td>3101</td>\n",
       "      <td>1251</td>\n",
       "      <td>0.853041</td>\n",
       "      <td>0.916892</td>\n",
       "    </tr>\n",
       "    <tr>\n",
       "      <th>...</th>\n",
       "      <td>...</td>\n",
       "      <td>...</td>\n",
       "      <td>...</td>\n",
       "      <td>...</td>\n",
       "      <td>...</td>\n",
       "      <td>...</td>\n",
       "    </tr>\n",
       "    <tr>\n",
       "      <th>3286</th>\n",
       "      <td>(drug, side_effect_1095, drug)</td>\n",
       "      <td>2</td>\n",
       "      <td>81</td>\n",
       "      <td>30</td>\n",
       "      <td>0.897942</td>\n",
       "      <td>0.959006</td>\n",
       "    </tr>\n",
       "    <tr>\n",
       "      <th>3287</th>\n",
       "      <td>(drug, side_effect_1095, drug)</td>\n",
       "      <td>1</td>\n",
       "      <td>20</td>\n",
       "      <td>45</td>\n",
       "      <td>0.856667</td>\n",
       "      <td>0.702986</td>\n",
       "    </tr>\n",
       "    <tr>\n",
       "      <th>3288</th>\n",
       "      <td>(drug, side_effect_1096, drug)</td>\n",
       "      <td>0</td>\n",
       "      <td>1</td>\n",
       "      <td>36</td>\n",
       "      <td>1.000000</td>\n",
       "      <td>1.000000</td>\n",
       "    </tr>\n",
       "    <tr>\n",
       "      <th>3289</th>\n",
       "      <td>(drug, side_effect_1096, drug)</td>\n",
       "      <td>2</td>\n",
       "      <td>111</td>\n",
       "      <td>41</td>\n",
       "      <td>0.888156</td>\n",
       "      <td>0.949358</td>\n",
       "    </tr>\n",
       "    <tr>\n",
       "      <th>3290</th>\n",
       "      <td>(drug, side_effect_1096, drug)</td>\n",
       "      <td>1</td>\n",
       "      <td>16</td>\n",
       "      <td>49</td>\n",
       "      <td>0.961735</td>\n",
       "      <td>0.814766</td>\n",
       "    </tr>\n",
       "  </tbody>\n",
       "</table>\n",
       "<p>3291 rows × 6 columns</p>\n",
       "</div>"
      ],
      "text/plain": [
       "                    side_effect_type  bin  num_pos_edges  num_neg_edges  \\\n",
       "0        (drug, side_effect_0, drug)    0             80            889   \n",
       "1        (drug, side_effect_0, drug)    2           1929            729   \n",
       "2        (drug, side_effect_0, drug)    1            465            856   \n",
       "3        (drug, side_effect_1, drug)    0            150           1537   \n",
       "4        (drug, side_effect_1, drug)    2           3101           1251   \n",
       "...                              ...  ...            ...            ...   \n",
       "3286  (drug, side_effect_1095, drug)    2             81             30   \n",
       "3287  (drug, side_effect_1095, drug)    1             20             45   \n",
       "3288  (drug, side_effect_1096, drug)    0              1             36   \n",
       "3289  (drug, side_effect_1096, drug)    2            111             41   \n",
       "3290  (drug, side_effect_1096, drug)    1             16             49   \n",
       "\n",
       "         auroc     auprc  \n",
       "0     0.952826  0.542874  \n",
       "1     0.854319  0.924323  \n",
       "2     0.912052  0.776672  \n",
       "3     0.954669  0.640547  \n",
       "4     0.853041  0.916892  \n",
       "...        ...       ...  \n",
       "3286  0.897942  0.959006  \n",
       "3287  0.856667  0.702986  \n",
       "3288  1.000000  1.000000  \n",
       "3289  0.888156  0.949358  \n",
       "3290  0.961735  0.814766  \n",
       "\n",
       "[3291 rows x 6 columns]"
      ]
     },
     "execution_count": 83,
     "metadata": {},
     "output_type": "execute_result"
    }
   ],
   "source": [
    "df2"
   ]
  },
  {
   "cell_type": "code",
   "execution_count": 84,
   "id": "dd5bba48-5616-441b-9d1f-7dd4f5220eb2",
   "metadata": {},
   "outputs": [
    {
     "name": "stdout",
     "output_type": "stream",
     "text": [
      "1850280\n"
     ]
    },
    {
     "data": {
      "text/plain": [
       "1850280"
      ]
     },
     "execution_count": 84,
     "metadata": {},
     "output_type": "execute_result"
    }
   ],
   "source": [
    "c = df['num_pos_edges'] + df['num_neg_edges']\n",
    "print(c.sum())\n",
    "c = df2['num_pos_edges'] + df2['num_neg_edges']\n",
    "c.sum()"
   ]
  },
  {
   "cell_type": "code",
   "execution_count": 85,
   "id": "2f94fc18-018c-4431-aeda-5d6a7fb1e088",
   "metadata": {},
   "outputs": [
    {
     "data": {
      "text/html": [
       "<div>\n",
       "<style scoped>\n",
       "    .dataframe tbody tr th:only-of-type {\n",
       "        vertical-align: middle;\n",
       "    }\n",
       "\n",
       "    .dataframe tbody tr th {\n",
       "        vertical-align: top;\n",
       "    }\n",
       "\n",
       "    .dataframe thead th {\n",
       "        text-align: right;\n",
       "    }\n",
       "</style>\n",
       "<table border=\"1\" class=\"dataframe\">\n",
       "  <thead>\n",
       "    <tr style=\"text-align: right;\">\n",
       "      <th></th>\n",
       "      <th>bin</th>\n",
       "      <th>AUROC</th>\n",
       "      <th>AUPRC</th>\n",
       "      <th>AUROC_DDIOnly</th>\n",
       "      <th>AUPRC_DDIOnly</th>\n",
       "      <th>node_degree</th>\n",
       "    </tr>\n",
       "  </thead>\n",
       "  <tbody>\n",
       "    <tr>\n",
       "      <th>0</th>\n",
       "      <td>0</td>\n",
       "      <td>0.966187</td>\n",
       "      <td>0.745826</td>\n",
       "      <td>0.956974</td>\n",
       "      <td>0.633185</td>\n",
       "      <td>&lt;b&gt;Bin 1&lt;/b&gt;&lt;br&gt;(d&lt;16,000)</td>\n",
       "    </tr>\n",
       "    <tr>\n",
       "      <th>1</th>\n",
       "      <td>1</td>\n",
       "      <td>0.946304</td>\n",
       "      <td>0.877393</td>\n",
       "      <td>0.928532</td>\n",
       "      <td>0.828363</td>\n",
       "      <td>&lt;b&gt;Bin 2&lt;/b&gt;&lt;br&gt;(16,000&lt;d&lt;26,000)</td>\n",
       "    </tr>\n",
       "    <tr>\n",
       "      <th>2</th>\n",
       "      <td>2</td>\n",
       "      <td>0.902928</td>\n",
       "      <td>0.946173</td>\n",
       "      <td>0.884246</td>\n",
       "      <td>0.936245</td>\n",
       "      <td>&lt;b&gt;Bin 3&lt;/b&gt;&lt;br&gt;(26,000&lt;d&lt;81,000)</td>\n",
       "    </tr>\n",
       "  </tbody>\n",
       "</table>\n",
       "</div>"
      ],
      "text/plain": [
       "   bin     AUROC     AUPRC  AUROC_DDIOnly  AUPRC_DDIOnly  \\\n",
       "0    0  0.966187  0.745826       0.956974       0.633185   \n",
       "1    1  0.946304  0.877393       0.928532       0.828363   \n",
       "2    2  0.902928  0.946173       0.884246       0.936245   \n",
       "\n",
       "                         node_degree  \n",
       "0         <b>Bin 1</b><br>(d<16,000)  \n",
       "1  <b>Bin 2</b><br>(16,000<d<26,000)  \n",
       "2  <b>Bin 3</b><br>(26,000<d<81,000)  "
      ]
     },
     "execution_count": 85,
     "metadata": {},
     "output_type": "execute_result"
    }
   ],
   "source": [
    "df2 = df2.rename(columns= {'auroc' : 'AUROC_DDIOnly', 'auprc' : 'AUPRC_DDIOnly'})\n",
    "df = df.rename(columns= {'auroc' : 'AUROC', 'auprc' : 'AUPRC'})\n",
    "total_df = pd.merge(df, df2)\n",
    "total_df = total_df.groupby(['bin']).agg(AUROC = ('AUROC', 'mean'), AUPRC = ('AUPRC', 'mean'),\n",
    "                                         AUROC_DDIOnly = ('AUROC_DDIOnly', 'mean'), AUPRC_DDIOnly = ('AUPRC_DDIOnly', 'mean')).reset_index()\n",
    "total_df['node_degree'] = ['<b>Bin 1</b><br>(d<16,000)','<b>Bin 2</b><br>(16,000<d<26,000)','<b>Bin 3</b><br>(26,000<d<81,000)']\n",
    "total_df"
   ]
  },
  {
   "cell_type": "markdown",
   "id": "8b75e69d-0471-4e28-9127-26e051e91bca",
   "metadata": {},
   "source": [
    "## Plot"
   ]
  },
  {
   "cell_type": "code",
   "execution_count": 86,
   "id": "5d96e76a-8447-4bd2-b4e0-76a46c9cb98b",
   "metadata": {},
   "outputs": [
    {
     "data": {
      "application/vnd.plotly.v1+json": {
       "config": {
        "plotlyServerURL": "https://plot.ly"
       },
       "data": [
        {
         "line": {
          "color": "#93be41",
          "width": 4
         },
         "marker": {
          "size": 10
         },
         "name": "<b>MFSE</b>",
         "type": "scatter",
         "x": [
          "<b>Bin 1</b><br>(d<16,000)",
          "<b>Bin 2</b><br>(16,000<d<26,000)",
          "<b>Bin 3</b><br>(26,000<d<81,000)"
         ],
         "y": [
          0.7458262194043052,
          0.8773932141424368,
          0.9461732804650232
         ]
        },
        {
         "line": {
          "color": "#3399ff",
          "width": 4
         },
         "marker": {
          "size": 10
         },
         "name": "MFSE-DDI",
         "type": "scatter",
         "x": [
          "<b>Bin 1</b><br>(d<16,000)",
          "<b>Bin 2</b><br>(16,000<d<26,000)",
          "<b>Bin 3</b><br>(26,000<d<81,000)"
         ],
         "y": [
          0.633184581949267,
          0.8283631284204385,
          0.9362454588293456
         ]
        }
       ],
       "layout": {
        "annotations": [
         {
          "font": {
           "size": 18
          },
          "showarrow": false,
          "text": "+17%",
          "x": 0.15,
          "y": 0.71
         },
         {
          "font": {
           "size": 18
          },
          "showarrow": false,
          "text": "+6%",
          "x": 1.15,
          "y": 0.865
         },
         {
          "font": {
           "size": 18
          },
          "showarrow": false,
          "text": "+1%",
          "x": 2.15,
          "y": 0.942
         }
        ],
        "font": {
         "family": "Arial",
         "size": 18
        },
        "height": 600,
        "legend": {
         "bordercolor": "Black",
         "borderwidth": 0.2,
         "x": 0.65,
         "y": 0.1
        },
        "shapes": [
         {
          "line": {
           "color": "black",
           "dash": "dash",
           "width": 0.7
          },
          "type": "line",
          "x0": 0,
          "x1": 0,
          "y0": 0.63,
          "y1": 0.74
         },
         {
          "line": {
           "color": "black",
           "dash": "dash",
           "width": 0.7
          },
          "type": "line",
          "x0": 1,
          "x1": 1,
          "y0": 0.84,
          "y1": 0.87
         },
         {
          "line": {
           "color": "black",
           "dash": "dash",
           "width": 0.7
          },
          "type": "line",
          "x0": 2,
          "x1": 2,
          "y0": 0.936,
          "y1": 0.944
         }
        ],
        "template": {
         "data": {
          "bar": [
           {
            "error_x": {
             "color": "rgb(36,36,36)"
            },
            "error_y": {
             "color": "rgb(36,36,36)"
            },
            "marker": {
             "line": {
              "color": "white",
              "width": 0.5
             },
             "pattern": {
              "fillmode": "overlay",
              "size": 10,
              "solidity": 0.2
             }
            },
            "type": "bar"
           }
          ],
          "barpolar": [
           {
            "marker": {
             "line": {
              "color": "white",
              "width": 0.5
             },
             "pattern": {
              "fillmode": "overlay",
              "size": 10,
              "solidity": 0.2
             }
            },
            "type": "barpolar"
           }
          ],
          "carpet": [
           {
            "aaxis": {
             "endlinecolor": "rgb(36,36,36)",
             "gridcolor": "white",
             "linecolor": "white",
             "minorgridcolor": "white",
             "startlinecolor": "rgb(36,36,36)"
            },
            "baxis": {
             "endlinecolor": "rgb(36,36,36)",
             "gridcolor": "white",
             "linecolor": "white",
             "minorgridcolor": "white",
             "startlinecolor": "rgb(36,36,36)"
            },
            "type": "carpet"
           }
          ],
          "choropleth": [
           {
            "colorbar": {
             "outlinewidth": 1,
             "tickcolor": "rgb(36,36,36)",
             "ticks": "outside"
            },
            "type": "choropleth"
           }
          ],
          "contour": [
           {
            "colorbar": {
             "outlinewidth": 1,
             "tickcolor": "rgb(36,36,36)",
             "ticks": "outside"
            },
            "colorscale": [
             [
              0,
              "#440154"
             ],
             [
              0.1111111111111111,
              "#482878"
             ],
             [
              0.2222222222222222,
              "#3e4989"
             ],
             [
              0.3333333333333333,
              "#31688e"
             ],
             [
              0.4444444444444444,
              "#26828e"
             ],
             [
              0.5555555555555556,
              "#1f9e89"
             ],
             [
              0.6666666666666666,
              "#35b779"
             ],
             [
              0.7777777777777778,
              "#6ece58"
             ],
             [
              0.8888888888888888,
              "#b5de2b"
             ],
             [
              1,
              "#fde725"
             ]
            ],
            "type": "contour"
           }
          ],
          "contourcarpet": [
           {
            "colorbar": {
             "outlinewidth": 1,
             "tickcolor": "rgb(36,36,36)",
             "ticks": "outside"
            },
            "type": "contourcarpet"
           }
          ],
          "heatmap": [
           {
            "colorbar": {
             "outlinewidth": 1,
             "tickcolor": "rgb(36,36,36)",
             "ticks": "outside"
            },
            "colorscale": [
             [
              0,
              "#440154"
             ],
             [
              0.1111111111111111,
              "#482878"
             ],
             [
              0.2222222222222222,
              "#3e4989"
             ],
             [
              0.3333333333333333,
              "#31688e"
             ],
             [
              0.4444444444444444,
              "#26828e"
             ],
             [
              0.5555555555555556,
              "#1f9e89"
             ],
             [
              0.6666666666666666,
              "#35b779"
             ],
             [
              0.7777777777777778,
              "#6ece58"
             ],
             [
              0.8888888888888888,
              "#b5de2b"
             ],
             [
              1,
              "#fde725"
             ]
            ],
            "type": "heatmap"
           }
          ],
          "heatmapgl": [
           {
            "colorbar": {
             "outlinewidth": 1,
             "tickcolor": "rgb(36,36,36)",
             "ticks": "outside"
            },
            "colorscale": [
             [
              0,
              "#440154"
             ],
             [
              0.1111111111111111,
              "#482878"
             ],
             [
              0.2222222222222222,
              "#3e4989"
             ],
             [
              0.3333333333333333,
              "#31688e"
             ],
             [
              0.4444444444444444,
              "#26828e"
             ],
             [
              0.5555555555555556,
              "#1f9e89"
             ],
             [
              0.6666666666666666,
              "#35b779"
             ],
             [
              0.7777777777777778,
              "#6ece58"
             ],
             [
              0.8888888888888888,
              "#b5de2b"
             ],
             [
              1,
              "#fde725"
             ]
            ],
            "type": "heatmapgl"
           }
          ],
          "histogram": [
           {
            "marker": {
             "line": {
              "color": "white",
              "width": 0.6
             }
            },
            "type": "histogram"
           }
          ],
          "histogram2d": [
           {
            "colorbar": {
             "outlinewidth": 1,
             "tickcolor": "rgb(36,36,36)",
             "ticks": "outside"
            },
            "colorscale": [
             [
              0,
              "#440154"
             ],
             [
              0.1111111111111111,
              "#482878"
             ],
             [
              0.2222222222222222,
              "#3e4989"
             ],
             [
              0.3333333333333333,
              "#31688e"
             ],
             [
              0.4444444444444444,
              "#26828e"
             ],
             [
              0.5555555555555556,
              "#1f9e89"
             ],
             [
              0.6666666666666666,
              "#35b779"
             ],
             [
              0.7777777777777778,
              "#6ece58"
             ],
             [
              0.8888888888888888,
              "#b5de2b"
             ],
             [
              1,
              "#fde725"
             ]
            ],
            "type": "histogram2d"
           }
          ],
          "histogram2dcontour": [
           {
            "colorbar": {
             "outlinewidth": 1,
             "tickcolor": "rgb(36,36,36)",
             "ticks": "outside"
            },
            "colorscale": [
             [
              0,
              "#440154"
             ],
             [
              0.1111111111111111,
              "#482878"
             ],
             [
              0.2222222222222222,
              "#3e4989"
             ],
             [
              0.3333333333333333,
              "#31688e"
             ],
             [
              0.4444444444444444,
              "#26828e"
             ],
             [
              0.5555555555555556,
              "#1f9e89"
             ],
             [
              0.6666666666666666,
              "#35b779"
             ],
             [
              0.7777777777777778,
              "#6ece58"
             ],
             [
              0.8888888888888888,
              "#b5de2b"
             ],
             [
              1,
              "#fde725"
             ]
            ],
            "type": "histogram2dcontour"
           }
          ],
          "mesh3d": [
           {
            "colorbar": {
             "outlinewidth": 1,
             "tickcolor": "rgb(36,36,36)",
             "ticks": "outside"
            },
            "type": "mesh3d"
           }
          ],
          "parcoords": [
           {
            "line": {
             "colorbar": {
              "outlinewidth": 1,
              "tickcolor": "rgb(36,36,36)",
              "ticks": "outside"
             }
            },
            "type": "parcoords"
           }
          ],
          "pie": [
           {
            "automargin": true,
            "type": "pie"
           }
          ],
          "scatter": [
           {
            "fillpattern": {
             "fillmode": "overlay",
             "size": 10,
             "solidity": 0.2
            },
            "type": "scatter"
           }
          ],
          "scatter3d": [
           {
            "line": {
             "colorbar": {
              "outlinewidth": 1,
              "tickcolor": "rgb(36,36,36)",
              "ticks": "outside"
             }
            },
            "marker": {
             "colorbar": {
              "outlinewidth": 1,
              "tickcolor": "rgb(36,36,36)",
              "ticks": "outside"
             }
            },
            "type": "scatter3d"
           }
          ],
          "scattercarpet": [
           {
            "marker": {
             "colorbar": {
              "outlinewidth": 1,
              "tickcolor": "rgb(36,36,36)",
              "ticks": "outside"
             }
            },
            "type": "scattercarpet"
           }
          ],
          "scattergeo": [
           {
            "marker": {
             "colorbar": {
              "outlinewidth": 1,
              "tickcolor": "rgb(36,36,36)",
              "ticks": "outside"
             }
            },
            "type": "scattergeo"
           }
          ],
          "scattergl": [
           {
            "marker": {
             "colorbar": {
              "outlinewidth": 1,
              "tickcolor": "rgb(36,36,36)",
              "ticks": "outside"
             }
            },
            "type": "scattergl"
           }
          ],
          "scattermapbox": [
           {
            "marker": {
             "colorbar": {
              "outlinewidth": 1,
              "tickcolor": "rgb(36,36,36)",
              "ticks": "outside"
             }
            },
            "type": "scattermapbox"
           }
          ],
          "scatterpolar": [
           {
            "marker": {
             "colorbar": {
              "outlinewidth": 1,
              "tickcolor": "rgb(36,36,36)",
              "ticks": "outside"
             }
            },
            "type": "scatterpolar"
           }
          ],
          "scatterpolargl": [
           {
            "marker": {
             "colorbar": {
              "outlinewidth": 1,
              "tickcolor": "rgb(36,36,36)",
              "ticks": "outside"
             }
            },
            "type": "scatterpolargl"
           }
          ],
          "scatterternary": [
           {
            "marker": {
             "colorbar": {
              "outlinewidth": 1,
              "tickcolor": "rgb(36,36,36)",
              "ticks": "outside"
             }
            },
            "type": "scatterternary"
           }
          ],
          "surface": [
           {
            "colorbar": {
             "outlinewidth": 1,
             "tickcolor": "rgb(36,36,36)",
             "ticks": "outside"
            },
            "colorscale": [
             [
              0,
              "#440154"
             ],
             [
              0.1111111111111111,
              "#482878"
             ],
             [
              0.2222222222222222,
              "#3e4989"
             ],
             [
              0.3333333333333333,
              "#31688e"
             ],
             [
              0.4444444444444444,
              "#26828e"
             ],
             [
              0.5555555555555556,
              "#1f9e89"
             ],
             [
              0.6666666666666666,
              "#35b779"
             ],
             [
              0.7777777777777778,
              "#6ece58"
             ],
             [
              0.8888888888888888,
              "#b5de2b"
             ],
             [
              1,
              "#fde725"
             ]
            ],
            "type": "surface"
           }
          ],
          "table": [
           {
            "cells": {
             "fill": {
              "color": "rgb(237,237,237)"
             },
             "line": {
              "color": "white"
             }
            },
            "header": {
             "fill": {
              "color": "rgb(217,217,217)"
             },
             "line": {
              "color": "white"
             }
            },
            "type": "table"
           }
          ]
         },
         "layout": {
          "annotationdefaults": {
           "arrowhead": 0,
           "arrowwidth": 1
          },
          "autotypenumbers": "strict",
          "coloraxis": {
           "colorbar": {
            "outlinewidth": 1,
            "tickcolor": "rgb(36,36,36)",
            "ticks": "outside"
           }
          },
          "colorscale": {
           "diverging": [
            [
             0,
             "rgb(103,0,31)"
            ],
            [
             0.1,
             "rgb(178,24,43)"
            ],
            [
             0.2,
             "rgb(214,96,77)"
            ],
            [
             0.3,
             "rgb(244,165,130)"
            ],
            [
             0.4,
             "rgb(253,219,199)"
            ],
            [
             0.5,
             "rgb(247,247,247)"
            ],
            [
             0.6,
             "rgb(209,229,240)"
            ],
            [
             0.7,
             "rgb(146,197,222)"
            ],
            [
             0.8,
             "rgb(67,147,195)"
            ],
            [
             0.9,
             "rgb(33,102,172)"
            ],
            [
             1,
             "rgb(5,48,97)"
            ]
           ],
           "sequential": [
            [
             0,
             "#440154"
            ],
            [
             0.1111111111111111,
             "#482878"
            ],
            [
             0.2222222222222222,
             "#3e4989"
            ],
            [
             0.3333333333333333,
             "#31688e"
            ],
            [
             0.4444444444444444,
             "#26828e"
            ],
            [
             0.5555555555555556,
             "#1f9e89"
            ],
            [
             0.6666666666666666,
             "#35b779"
            ],
            [
             0.7777777777777778,
             "#6ece58"
            ],
            [
             0.8888888888888888,
             "#b5de2b"
            ],
            [
             1,
             "#fde725"
            ]
           ],
           "sequentialminus": [
            [
             0,
             "#440154"
            ],
            [
             0.1111111111111111,
             "#482878"
            ],
            [
             0.2222222222222222,
             "#3e4989"
            ],
            [
             0.3333333333333333,
             "#31688e"
            ],
            [
             0.4444444444444444,
             "#26828e"
            ],
            [
             0.5555555555555556,
             "#1f9e89"
            ],
            [
             0.6666666666666666,
             "#35b779"
            ],
            [
             0.7777777777777778,
             "#6ece58"
            ],
            [
             0.8888888888888888,
             "#b5de2b"
            ],
            [
             1,
             "#fde725"
            ]
           ]
          },
          "colorway": [
           "#1F77B4",
           "#FF7F0E",
           "#2CA02C",
           "#D62728",
           "#9467BD",
           "#8C564B",
           "#E377C2",
           "#7F7F7F",
           "#BCBD22",
           "#17BECF"
          ],
          "font": {
           "color": "rgb(36,36,36)"
          },
          "geo": {
           "bgcolor": "white",
           "lakecolor": "white",
           "landcolor": "white",
           "showlakes": true,
           "showland": true,
           "subunitcolor": "white"
          },
          "hoverlabel": {
           "align": "left"
          },
          "hovermode": "closest",
          "mapbox": {
           "style": "light"
          },
          "paper_bgcolor": "white",
          "plot_bgcolor": "white",
          "polar": {
           "angularaxis": {
            "gridcolor": "rgb(232,232,232)",
            "linecolor": "rgb(36,36,36)",
            "showgrid": false,
            "showline": true,
            "ticks": "outside"
           },
           "bgcolor": "white",
           "radialaxis": {
            "gridcolor": "rgb(232,232,232)",
            "linecolor": "rgb(36,36,36)",
            "showgrid": false,
            "showline": true,
            "ticks": "outside"
           }
          },
          "scene": {
           "xaxis": {
            "backgroundcolor": "white",
            "gridcolor": "rgb(232,232,232)",
            "gridwidth": 2,
            "linecolor": "rgb(36,36,36)",
            "showbackground": true,
            "showgrid": false,
            "showline": true,
            "ticks": "outside",
            "zeroline": false,
            "zerolinecolor": "rgb(36,36,36)"
           },
           "yaxis": {
            "backgroundcolor": "white",
            "gridcolor": "rgb(232,232,232)",
            "gridwidth": 2,
            "linecolor": "rgb(36,36,36)",
            "showbackground": true,
            "showgrid": false,
            "showline": true,
            "ticks": "outside",
            "zeroline": false,
            "zerolinecolor": "rgb(36,36,36)"
           },
           "zaxis": {
            "backgroundcolor": "white",
            "gridcolor": "rgb(232,232,232)",
            "gridwidth": 2,
            "linecolor": "rgb(36,36,36)",
            "showbackground": true,
            "showgrid": false,
            "showline": true,
            "ticks": "outside",
            "zeroline": false,
            "zerolinecolor": "rgb(36,36,36)"
           }
          },
          "shapedefaults": {
           "fillcolor": "black",
           "line": {
            "width": 0
           },
           "opacity": 0.3
          },
          "ternary": {
           "aaxis": {
            "gridcolor": "rgb(232,232,232)",
            "linecolor": "rgb(36,36,36)",
            "showgrid": false,
            "showline": true,
            "ticks": "outside"
           },
           "baxis": {
            "gridcolor": "rgb(232,232,232)",
            "linecolor": "rgb(36,36,36)",
            "showgrid": false,
            "showline": true,
            "ticks": "outside"
           },
           "bgcolor": "white",
           "caxis": {
            "gridcolor": "rgb(232,232,232)",
            "linecolor": "rgb(36,36,36)",
            "showgrid": false,
            "showline": true,
            "ticks": "outside"
           }
          },
          "title": {
           "x": 0.05
          },
          "xaxis": {
           "automargin": true,
           "gridcolor": "rgb(232,232,232)",
           "linecolor": "rgb(36,36,36)",
           "showgrid": false,
           "showline": true,
           "ticks": "outside",
           "title": {
            "standoff": 15
           },
           "zeroline": false,
           "zerolinecolor": "rgb(36,36,36)"
          },
          "yaxis": {
           "automargin": true,
           "gridcolor": "rgb(232,232,232)",
           "linecolor": "rgb(36,36,36)",
           "showgrid": false,
           "showline": true,
           "ticks": "outside",
           "title": {
            "standoff": 15
           },
           "zeroline": false,
           "zerolinecolor": "rgb(36,36,36)"
          }
         }
        },
        "title": {
         "text": "<b>(b) Evaluation by node degree d</b>",
         "x": 0.5,
         "y": 0.9
        },
        "width": 600,
        "xaxis": {
         "autorange": true,
         "range": [
          -0.15596723868954757,
          2.264599583983359
         ],
         "type": "category"
        },
        "yaxis": {
         "autorange": true,
         "range": [
          0.6098495832227161,
          0.9695082791915741
         ],
         "title": {
          "text": "AUPRC"
         },
         "type": "linear"
        }
       }
      },
      "image/png": "[encoded data removed]",
      "text/html": [
       "<div>                            <div id=\"999ca4fc-e6a0-4df9-aea9-6f7b57f86234\" class=\"plotly-graph-div\" style=\"height:600px; width:600px;\"></div>            <script type=\"text/javascript\">                require([\"plotly\"], function(Plotly) {                    window.PLOTLYENV=window.PLOTLYENV || {};                                    if (document.getElementById(\"999ca4fc-e6a0-4df9-aea9-6f7b57f86234\")) {                    Plotly.newPlot(                        \"999ca4fc-e6a0-4df9-aea9-6f7b57f86234\",                        [{\"line\":{\"color\":\"#93be41\",\"width\":4},\"marker\":{\"size\":10},\"name\":\"<b>MFSE</b>\",\"x\":[\"<b>Bin 1</b><br>(d<16,000)\",\"<b>Bin 2</b><br>(16,000<d<26,000)\",\"<b>Bin 3</b><br>(26,000<d<81,000)\"],\"y\":[0.7458262194043052,0.8773932141424368,0.9461732804650232],\"type\":\"scatter\"},{\"line\":{\"color\":\"#3399ff\",\"width\":4},\"marker\":{\"size\":10},\"name\":\"MFSE-DDI\",\"x\":[\"<b>Bin 1</b><br>(d<16,000)\",\"<b>Bin 2</b><br>(16,000<d<26,000)\",\"<b>Bin 3</b><br>(26,000<d<81,000)\"],\"y\":[0.633184581949267,0.8283631284204385,0.9362454588293456],\"type\":\"scatter\"}],                        {\"template\":{\"data\":{\"barpolar\":[{\"marker\":{\"line\":{\"color\":\"white\",\"width\":0.5},\"pattern\":{\"fillmode\":\"overlay\",\"size\":10,\"solidity\":0.2}},\"type\":\"barpolar\"}],\"bar\":[{\"error_x\":{\"color\":\"rgb(36,36,36)\"},\"error_y\":{\"color\":\"rgb(36,36,36)\"},\"marker\":{\"line\":{\"color\":\"white\",\"width\":0.5},\"pattern\":{\"fillmode\":\"overlay\",\"size\":10,\"solidity\":0.2}},\"type\":\"bar\"}],\"carpet\":[{\"aaxis\":{\"endlinecolor\":\"rgb(36,36,36)\",\"gridcolor\":\"white\",\"linecolor\":\"white\",\"minorgridcolor\":\"white\",\"startlinecolor\":\"rgb(36,36,36)\"},\"baxis\":{\"endlinecolor\":\"rgb(36,36,36)\",\"gridcolor\":\"white\",\"linecolor\":\"white\",\"minorgridcolor\":\"white\",\"startlinecolor\":\"rgb(36,36,36)\"},\"type\":\"carpet\"}],\"choropleth\":[{\"colorbar\":{\"outlinewidth\":1,\"tickcolor\":\"rgb(36,36,36)\",\"ticks\":\"outside\"},\"type\":\"choropleth\"}],\"contourcarpet\":[{\"colorbar\":{\"outlinewidth\":1,\"tickcolor\":\"rgb(36,36,36)\",\"ticks\":\"outside\"},\"type\":\"contourcarpet\"}],\"contour\":[{\"colorbar\":{\"outlinewidth\":1,\"tickcolor\":\"rgb(36,36,36)\",\"ticks\":\"outside\"},\"colorscale\":[[0.0,\"#440154\"],[0.1111111111111111,\"#482878\"],[0.2222222222222222,\"#3e4989\"],[0.3333333333333333,\"#31688e\"],[0.4444444444444444,\"#26828e\"],[0.5555555555555556,\"#1f9e89\"],[0.6666666666666666,\"#35b779\"],[0.7777777777777778,\"#6ece58\"],[0.8888888888888888,\"#b5de2b\"],[1.0,\"#fde725\"]],\"type\":\"contour\"}],\"heatmapgl\":[{\"colorbar\":{\"outlinewidth\":1,\"tickcolor\":\"rgb(36,36,36)\",\"ticks\":\"outside\"},\"colorscale\":[[0.0,\"#440154\"],[0.1111111111111111,\"#482878\"],[0.2222222222222222,\"#3e4989\"],[0.3333333333333333,\"#31688e\"],[0.4444444444444444,\"#26828e\"],[0.5555555555555556,\"#1f9e89\"],[0.6666666666666666,\"#35b779\"],[0.7777777777777778,\"#6ece58\"],[0.8888888888888888,\"#b5de2b\"],[1.0,\"#fde725\"]],\"type\":\"heatmapgl\"}],\"heatmap\":[{\"colorbar\":{\"outlinewidth\":1,\"tickcolor\":\"rgb(36,36,36)\",\"ticks\":\"outside\"},\"colorscale\":[[0.0,\"#440154\"],[0.1111111111111111,\"#482878\"],[0.2222222222222222,\"#3e4989\"],[0.3333333333333333,\"#31688e\"],[0.4444444444444444,\"#26828e\"],[0.5555555555555556,\"#1f9e89\"],[0.6666666666666666,\"#35b779\"],[0.7777777777777778,\"#6ece58\"],[0.8888888888888888,\"#b5de2b\"],[1.0,\"#fde725\"]],\"type\":\"heatmap\"}],\"histogram2dcontour\":[{\"colorbar\":{\"outlinewidth\":1,\"tickcolor\":\"rgb(36,36,36)\",\"ticks\":\"outside\"},\"colorscale\":[[0.0,\"#440154\"],[0.1111111111111111,\"#482878\"],[0.2222222222222222,\"#3e4989\"],[0.3333333333333333,\"#31688e\"],[0.4444444444444444,\"#26828e\"],[0.5555555555555556,\"#1f9e89\"],[0.6666666666666666,\"#35b779\"],[0.7777777777777778,\"#6ece58\"],[0.8888888888888888,\"#b5de2b\"],[1.0,\"#fde725\"]],\"type\":\"histogram2dcontour\"}],\"histogram2d\":[{\"colorbar\":{\"outlinewidth\":1,\"tickcolor\":\"rgb(36,36,36)\",\"ticks\":\"outside\"},\"colorscale\":[[0.0,\"#440154\"],[0.1111111111111111,\"#482878\"],[0.2222222222222222,\"#3e4989\"],[0.3333333333333333,\"#31688e\"],[0.4444444444444444,\"#26828e\"],[0.5555555555555556,\"#1f9e89\"],[0.6666666666666666,\"#35b779\"],[0.7777777777777778,\"#6ece58\"],[0.8888888888888888,\"#b5de2b\"],[1.0,\"#fde725\"]],\"type\":\"histogram2d\"}],\"histogram\":[{\"marker\":{\"line\":{\"color\":\"white\",\"width\":0.6}},\"type\":\"histogram\"}],\"mesh3d\":[{\"colorbar\":{\"outlinewidth\":1,\"tickcolor\":\"rgb(36,36,36)\",\"ticks\":\"outside\"},\"type\":\"mesh3d\"}],\"parcoords\":[{\"line\":{\"colorbar\":{\"outlinewidth\":1,\"tickcolor\":\"rgb(36,36,36)\",\"ticks\":\"outside\"}},\"type\":\"parcoords\"}],\"pie\":[{\"automargin\":true,\"type\":\"pie\"}],\"scatter3d\":[{\"line\":{\"colorbar\":{\"outlinewidth\":1,\"tickcolor\":\"rgb(36,36,36)\",\"ticks\":\"outside\"}},\"marker\":{\"colorbar\":{\"outlinewidth\":1,\"tickcolor\":\"rgb(36,36,36)\",\"ticks\":\"outside\"}},\"type\":\"scatter3d\"}],\"scattercarpet\":[{\"marker\":{\"colorbar\":{\"outlinewidth\":1,\"tickcolor\":\"rgb(36,36,36)\",\"ticks\":\"outside\"}},\"type\":\"scattercarpet\"}],\"scattergeo\":[{\"marker\":{\"colorbar\":{\"outlinewidth\":1,\"tickcolor\":\"rgb(36,36,36)\",\"ticks\":\"outside\"}},\"type\":\"scattergeo\"}],\"scattergl\":[{\"marker\":{\"colorbar\":{\"outlinewidth\":1,\"tickcolor\":\"rgb(36,36,36)\",\"ticks\":\"outside\"}},\"type\":\"scattergl\"}],\"scattermapbox\":[{\"marker\":{\"colorbar\":{\"outlinewidth\":1,\"tickcolor\":\"rgb(36,36,36)\",\"ticks\":\"outside\"}},\"type\":\"scattermapbox\"}],\"scatterpolargl\":[{\"marker\":{\"colorbar\":{\"outlinewidth\":1,\"tickcolor\":\"rgb(36,36,36)\",\"ticks\":\"outside\"}},\"type\":\"scatterpolargl\"}],\"scatterpolar\":[{\"marker\":{\"colorbar\":{\"outlinewidth\":1,\"tickcolor\":\"rgb(36,36,36)\",\"ticks\":\"outside\"}},\"type\":\"scatterpolar\"}],\"scatter\":[{\"fillpattern\":{\"fillmode\":\"overlay\",\"size\":10,\"solidity\":0.2},\"type\":\"scatter\"}],\"scatterternary\":[{\"marker\":{\"colorbar\":{\"outlinewidth\":1,\"tickcolor\":\"rgb(36,36,36)\",\"ticks\":\"outside\"}},\"type\":\"scatterternary\"}],\"surface\":[{\"colorbar\":{\"outlinewidth\":1,\"tickcolor\":\"rgb(36,36,36)\",\"ticks\":\"outside\"},\"colorscale\":[[0.0,\"#440154\"],[0.1111111111111111,\"#482878\"],[0.2222222222222222,\"#3e4989\"],[0.3333333333333333,\"#31688e\"],[0.4444444444444444,\"#26828e\"],[0.5555555555555556,\"#1f9e89\"],[0.6666666666666666,\"#35b779\"],[0.7777777777777778,\"#6ece58\"],[0.8888888888888888,\"#b5de2b\"],[1.0,\"#fde725\"]],\"type\":\"surface\"}],\"table\":[{\"cells\":{\"fill\":{\"color\":\"rgb(237,237,237)\"},\"line\":{\"color\":\"white\"}},\"header\":{\"fill\":{\"color\":\"rgb(217,217,217)\"},\"line\":{\"color\":\"white\"}},\"type\":\"table\"}]},\"layout\":{\"annotationdefaults\":{\"arrowhead\":0,\"arrowwidth\":1},\"autotypenumbers\":\"strict\",\"coloraxis\":{\"colorbar\":{\"outlinewidth\":1,\"tickcolor\":\"rgb(36,36,36)\",\"ticks\":\"outside\"}},\"colorscale\":{\"diverging\":[[0.0,\"rgb(103,0,31)\"],[0.1,\"rgb(178,24,43)\"],[0.2,\"rgb(214,96,77)\"],[0.3,\"rgb(244,165,130)\"],[0.4,\"rgb(253,219,199)\"],[0.5,\"rgb(247,247,247)\"],[0.6,\"rgb(209,229,240)\"],[0.7,\"rgb(146,197,222)\"],[0.8,\"rgb(67,147,195)\"],[0.9,\"rgb(33,102,172)\"],[1.0,\"rgb(5,48,97)\"]],\"sequential\":[[0.0,\"#440154\"],[0.1111111111111111,\"#482878\"],[0.2222222222222222,\"#3e4989\"],[0.3333333333333333,\"#31688e\"],[0.4444444444444444,\"#26828e\"],[0.5555555555555556,\"#1f9e89\"],[0.6666666666666666,\"#35b779\"],[0.7777777777777778,\"#6ece58\"],[0.8888888888888888,\"#b5de2b\"],[1.0,\"#fde725\"]],\"sequentialminus\":[[0.0,\"#440154\"],[0.1111111111111111,\"#482878\"],[0.2222222222222222,\"#3e4989\"],[0.3333333333333333,\"#31688e\"],[0.4444444444444444,\"#26828e\"],[0.5555555555555556,\"#1f9e89\"],[0.6666666666666666,\"#35b779\"],[0.7777777777777778,\"#6ece58\"],[0.8888888888888888,\"#b5de2b\"],[1.0,\"#fde725\"]]},\"colorway\":[\"#1F77B4\",\"#FF7F0E\",\"#2CA02C\",\"#D62728\",\"#9467BD\",\"#8C564B\",\"#E377C2\",\"#7F7F7F\",\"#BCBD22\",\"#17BECF\"],\"font\":{\"color\":\"rgb(36,36,36)\"},\"geo\":{\"bgcolor\":\"white\",\"lakecolor\":\"white\",\"landcolor\":\"white\",\"showlakes\":true,\"showland\":true,\"subunitcolor\":\"white\"},\"hoverlabel\":{\"align\":\"left\"},\"hovermode\":\"closest\",\"mapbox\":{\"style\":\"light\"},\"paper_bgcolor\":\"white\",\"plot_bgcolor\":\"white\",\"polar\":{\"angularaxis\":{\"gridcolor\":\"rgb(232,232,232)\",\"linecolor\":\"rgb(36,36,36)\",\"showgrid\":false,\"showline\":true,\"ticks\":\"outside\"},\"bgcolor\":\"white\",\"radialaxis\":{\"gridcolor\":\"rgb(232,232,232)\",\"linecolor\":\"rgb(36,36,36)\",\"showgrid\":false,\"showline\":true,\"ticks\":\"outside\"}},\"scene\":{\"xaxis\":{\"backgroundcolor\":\"white\",\"gridcolor\":\"rgb(232,232,232)\",\"gridwidth\":2,\"linecolor\":\"rgb(36,36,36)\",\"showbackground\":true,\"showgrid\":false,\"showline\":true,\"ticks\":\"outside\",\"zeroline\":false,\"zerolinecolor\":\"rgb(36,36,36)\"},\"yaxis\":{\"backgroundcolor\":\"white\",\"gridcolor\":\"rgb(232,232,232)\",\"gridwidth\":2,\"linecolor\":\"rgb(36,36,36)\",\"showbackground\":true,\"showgrid\":false,\"showline\":true,\"ticks\":\"outside\",\"zeroline\":false,\"zerolinecolor\":\"rgb(36,36,36)\"},\"zaxis\":{\"backgroundcolor\":\"white\",\"gridcolor\":\"rgb(232,232,232)\",\"gridwidth\":2,\"linecolor\":\"rgb(36,36,36)\",\"showbackground\":true,\"showgrid\":false,\"showline\":true,\"ticks\":\"outside\",\"zeroline\":false,\"zerolinecolor\":\"rgb(36,36,36)\"}},\"shapedefaults\":{\"fillcolor\":\"black\",\"line\":{\"width\":0},\"opacity\":0.3},\"ternary\":{\"aaxis\":{\"gridcolor\":\"rgb(232,232,232)\",\"linecolor\":\"rgb(36,36,36)\",\"showgrid\":false,\"showline\":true,\"ticks\":\"outside\"},\"baxis\":{\"gridcolor\":\"rgb(232,232,232)\",\"linecolor\":\"rgb(36,36,36)\",\"showgrid\":false,\"showline\":true,\"ticks\":\"outside\"},\"bgcolor\":\"white\",\"caxis\":{\"gridcolor\":\"rgb(232,232,232)\",\"linecolor\":\"rgb(36,36,36)\",\"showgrid\":false,\"showline\":true,\"ticks\":\"outside\"}},\"title\":{\"x\":0.05},\"xaxis\":{\"automargin\":true,\"gridcolor\":\"rgb(232,232,232)\",\"linecolor\":\"rgb(36,36,36)\",\"showgrid\":false,\"showline\":true,\"ticks\":\"outside\",\"title\":{\"standoff\":15},\"zeroline\":false,\"zerolinecolor\":\"rgb(36,36,36)\"},\"yaxis\":{\"automargin\":true,\"gridcolor\":\"rgb(232,232,232)\",\"linecolor\":\"rgb(36,36,36)\",\"showgrid\":false,\"showline\":true,\"ticks\":\"outside\",\"title\":{\"standoff\":15},\"zeroline\":false,\"zerolinecolor\":\"rgb(36,36,36)\"}}},\"title\":{\"text\":\"<b>(b) Evaluation by node degree d</b>\",\"x\":0.5,\"y\":0.9},\"legend\":{\"x\":0.65,\"y\":0.1,\"bordercolor\":\"Black\",\"borderwidth\":0.2},\"font\":{\"family\":\"Arial\",\"size\":18},\"yaxis\":{\"title\":{\"text\":\"AUPRC\"}},\"width\":600,\"height\":600,\"xaxis\":{\"type\":\"category\"},\"shapes\":[{\"line\":{\"color\":\"black\",\"dash\":\"dash\",\"width\":0.7},\"type\":\"line\",\"x0\":0,\"x1\":0,\"y0\":0.63,\"y1\":0.74},{\"line\":{\"color\":\"black\",\"dash\":\"dash\",\"width\":0.7},\"type\":\"line\",\"x0\":1,\"x1\":1,\"y0\":0.84,\"y1\":0.87},{\"line\":{\"color\":\"black\",\"dash\":\"dash\",\"width\":0.7},\"type\":\"line\",\"x0\":2,\"x1\":2,\"y0\":0.936,\"y1\":0.944}],\"annotations\":[{\"font\":{\"size\":18},\"showarrow\":false,\"text\":\"+17%\",\"x\":0.15,\"y\":0.71},{\"font\":{\"size\":18},\"showarrow\":false,\"text\":\"+6%\",\"x\":1.15,\"y\":0.865},{\"font\":{\"size\":18},\"showarrow\":false,\"text\":\"+1%\",\"x\":2.15,\"y\":0.942}]},                        {\"responsive\": true}                    ).then(function(){\n",
       "                            \n",
       "var gd = document.getElementById('999ca4fc-e6a0-4df9-aea9-6f7b57f86234');\n",
       "var x = new MutationObserver(function (mutations, observer) {{\n",
       "        var display = window.getComputedStyle(gd).display;\n",
       "        if (!display || display === 'none') {{\n",
       "            console.log([gd, 'removed!']);\n",
       "            Plotly.purge(gd);\n",
       "            observer.disconnect();\n",
       "        }}\n",
       "}});\n",
       "\n",
       "// Listen for the removal of the full notebook cells\n",
       "var notebookContainer = gd.closest('#notebook-container');\n",
       "if (notebookContainer) {{\n",
       "    x.observe(notebookContainer, {childList: true});\n",
       "}}\n",
       "\n",
       "// Listen for the clearing of the current output cell\n",
       "var outputEl = gd.closest('.output');\n",
       "if (outputEl) {{\n",
       "    x.observe(outputEl, {childList: true});\n",
       "}}\n",
       "\n",
       "                        })                };                });            </script>        </div>"
      ]
     },
     "metadata": {},
     "output_type": "display_data"
    }
   ],
   "source": [
    "import plotly.graph_objects as go\n",
    "\n",
    "data = [go.Scatter(x=total_df['node_degree'], y=total_df['AUPRC'], name='<b>MFSE</b>', line=dict(color='#93be41', width=4), marker=dict(size=10)),\n",
    "        go.Scatter(x=total_df['node_degree'], y=total_df['AUPRC_DDIOnly'], name='MFSE-DDI', line=dict(color='#3399ff',width=4), marker=dict(size=10)),\n",
    "       ]\n",
    "fig = go.Figure(data=data)\n",
    "fig.update_layout(template='simple_white', title='<b>(b) Evaluation by node degree d</b>', yaxis_title='AUPRC', title_x=0.5, title_y=0.9,\n",
    "                  width=600, height=600, legend=dict(x=.65,y=.1,bordercolor=\"Black\",borderwidth=.2), font=dict(family=\"Arial\", size=18))\n",
    "fig.update_xaxes(type='category')\n",
    "fig.add_shape(type=\"line\", x0=0, y0=0.63, x1=0, y1=0.74, line_width=0.7, line_dash=\"dash\", line_color=\"black\")\n",
    "fig.add_shape(type=\"line\", x0=1, y0=0.84, x1=1, y1=0.87, line_width=0.7, line_dash=\"dash\", line_color=\"black\")\n",
    "fig.add_shape(type=\"line\", x0=2, y0=0.936, x1=2, y1=0.944, line_width=0.7, line_dash=\"dash\", line_color=\"black\")\n",
    "fig.add_annotation(x=0.15, y=0.71, text=\"+17%\", showarrow=False, font=dict(size=18))\n",
    "fig.add_annotation(x=1.15, y=0.865, text=\"+6%\", showarrow=False, font=dict(size=18))\n",
    "fig.add_annotation(x=2.15, y=0.942, text=\"+1%\", showarrow=False, font=dict(size=18))\n",
    "\n",
    "fig.show()"
   ]
  },
  {
   "cell_type": "markdown",
   "id": "d2e87d04-dde9-4edb-aa48-a6e3191d8bc0",
   "metadata": {},
   "source": [
    "## Bins"
   ]
  },
  {
   "cell_type": "code",
   "execution_count": 87,
   "id": "506906eb-aa06-4835-8cbd-7863ccfddd35",
   "metadata": {},
   "outputs": [
    {
     "data": {
      "text/html": [
       "<div>\n",
       "<style scoped>\n",
       "    .dataframe tbody tr th:only-of-type {\n",
       "        vertical-align: middle;\n",
       "    }\n",
       "\n",
       "    .dataframe tbody tr th {\n",
       "        vertical-align: top;\n",
       "    }\n",
       "\n",
       "    .dataframe thead th {\n",
       "        text-align: right;\n",
       "    }\n",
       "</style>\n",
       "<table border=\"1\" class=\"dataframe\">\n",
       "  <thead>\n",
       "    <tr style=\"text-align: right;\">\n",
       "      <th></th>\n",
       "      <th>side_effect_type</th>\n",
       "      <th>bin</th>\n",
       "      <th>num_pos_edges</th>\n",
       "      <th>num_neg_edges</th>\n",
       "      <th>AUROC</th>\n",
       "      <th>AUPRC</th>\n",
       "    </tr>\n",
       "  </thead>\n",
       "  <tbody>\n",
       "    <tr>\n",
       "      <th>2</th>\n",
       "      <td>(drug, side_effect_0, drug)</td>\n",
       "      <td>1</td>\n",
       "      <td>465</td>\n",
       "      <td>856</td>\n",
       "      <td>0.916471</td>\n",
       "      <td>0.820055</td>\n",
       "    </tr>\n",
       "    <tr>\n",
       "      <th>5</th>\n",
       "      <td>(drug, side_effect_1, drug)</td>\n",
       "      <td>1</td>\n",
       "      <td>1031</td>\n",
       "      <td>1494</td>\n",
       "      <td>0.900052</td>\n",
       "      <td>0.827273</td>\n",
       "    </tr>\n",
       "    <tr>\n",
       "      <th>8</th>\n",
       "      <td>(drug, side_effect_2, drug)</td>\n",
       "      <td>1</td>\n",
       "      <td>118</td>\n",
       "      <td>205</td>\n",
       "      <td>0.933485</td>\n",
       "      <td>0.884078</td>\n",
       "    </tr>\n",
       "    <tr>\n",
       "      <th>11</th>\n",
       "      <td>(drug, side_effect_3, drug)</td>\n",
       "      <td>1</td>\n",
       "      <td>53</td>\n",
       "      <td>101</td>\n",
       "      <td>0.900430</td>\n",
       "      <td>0.855613</td>\n",
       "    </tr>\n",
       "    <tr>\n",
       "      <th>14</th>\n",
       "      <td>(drug, side_effect_4, drug)</td>\n",
       "      <td>1</td>\n",
       "      <td>210</td>\n",
       "      <td>454</td>\n",
       "      <td>0.948164</td>\n",
       "      <td>0.890920</td>\n",
       "    </tr>\n",
       "    <tr>\n",
       "      <th>...</th>\n",
       "      <td>...</td>\n",
       "      <td>...</td>\n",
       "      <td>...</td>\n",
       "      <td>...</td>\n",
       "      <td>...</td>\n",
       "      <td>...</td>\n",
       "    </tr>\n",
       "    <tr>\n",
       "      <th>3278</th>\n",
       "      <td>(drug, side_effect_1092, drug)</td>\n",
       "      <td>1</td>\n",
       "      <td>76</td>\n",
       "      <td>204</td>\n",
       "      <td>0.927954</td>\n",
       "      <td>0.783141</td>\n",
       "    </tr>\n",
       "    <tr>\n",
       "      <th>3281</th>\n",
       "      <td>(drug, side_effect_1093, drug)</td>\n",
       "      <td>1</td>\n",
       "      <td>31</td>\n",
       "      <td>79</td>\n",
       "      <td>0.977542</td>\n",
       "      <td>0.952416</td>\n",
       "    </tr>\n",
       "    <tr>\n",
       "      <th>3284</th>\n",
       "      <td>(drug, side_effect_1094, drug)</td>\n",
       "      <td>1</td>\n",
       "      <td>198</td>\n",
       "      <td>408</td>\n",
       "      <td>0.918734</td>\n",
       "      <td>0.805966</td>\n",
       "    </tr>\n",
       "    <tr>\n",
       "      <th>3287</th>\n",
       "      <td>(drug, side_effect_1095, drug)</td>\n",
       "      <td>1</td>\n",
       "      <td>20</td>\n",
       "      <td>45</td>\n",
       "      <td>0.933333</td>\n",
       "      <td>0.856431</td>\n",
       "    </tr>\n",
       "    <tr>\n",
       "      <th>3290</th>\n",
       "      <td>(drug, side_effect_1096, drug)</td>\n",
       "      <td>1</td>\n",
       "      <td>16</td>\n",
       "      <td>49</td>\n",
       "      <td>0.993622</td>\n",
       "      <td>0.983135</td>\n",
       "    </tr>\n",
       "  </tbody>\n",
       "</table>\n",
       "<p>1097 rows × 6 columns</p>\n",
       "</div>"
      ],
      "text/plain": [
       "                    side_effect_type  bin  num_pos_edges  num_neg_edges  \\\n",
       "2        (drug, side_effect_0, drug)    1            465            856   \n",
       "5        (drug, side_effect_1, drug)    1           1031           1494   \n",
       "8        (drug, side_effect_2, drug)    1            118            205   \n",
       "11       (drug, side_effect_3, drug)    1             53            101   \n",
       "14       (drug, side_effect_4, drug)    1            210            454   \n",
       "...                              ...  ...            ...            ...   \n",
       "3278  (drug, side_effect_1092, drug)    1             76            204   \n",
       "3281  (drug, side_effect_1093, drug)    1             31             79   \n",
       "3284  (drug, side_effect_1094, drug)    1            198            408   \n",
       "3287  (drug, side_effect_1095, drug)    1             20             45   \n",
       "3290  (drug, side_effect_1096, drug)    1             16             49   \n",
       "\n",
       "         AUROC     AUPRC  \n",
       "2     0.916471  0.820055  \n",
       "5     0.900052  0.827273  \n",
       "8     0.933485  0.884078  \n",
       "11    0.900430  0.855613  \n",
       "14    0.948164  0.890920  \n",
       "...        ...       ...  \n",
       "3278  0.927954  0.783141  \n",
       "3281  0.977542  0.952416  \n",
       "3284  0.918734  0.805966  \n",
       "3287  0.933333  0.856431  \n",
       "3290  0.993622  0.983135  \n",
       "\n",
       "[1097 rows x 6 columns]"
      ]
     },
     "execution_count": 87,
     "metadata": {},
     "output_type": "execute_result"
    }
   ],
   "source": [
    "# bin1 = df[((df['num_pos_edges'] - df['num_neg_edges']).between(-50,50)) &\n",
    "#           (df['bin'] == 1) &\n",
    "#           (df['num_pos_edges'] > 100) &\n",
    "#           (df['num_neg_edges'] > 100)\n",
    "#          ]\n",
    "# bin1 = df[(df['bin'] == 1) &\n",
    "#           (df['num_pos_edges'] < df['num_neg_edges'])\n",
    "#         ]\n",
    "bin1 = df[(df['bin'] == 1)]\n",
    "bin1"
   ]
  },
  {
   "cell_type": "code",
   "execution_count": 88,
   "id": "a6782027-79bf-441f-a888-7477d1ff9502",
   "metadata": {},
   "outputs": [
    {
     "name": "stdout",
     "output_type": "stream",
     "text": [
      "0.946303513740105\n"
     ]
    },
    {
     "data": {
      "text/plain": [
       "0.8773932141424368"
      ]
     },
     "execution_count": 88,
     "metadata": {},
     "output_type": "execute_result"
    }
   ],
   "source": [
    "print(bin1['AUROC'].mean())\n",
    "bin1['AUPRC'].mean()"
   ]
  },
  {
   "cell_type": "code",
   "execution_count": 89,
   "id": "9e8d345b-3a12-4762-8ddf-bee881cfc548",
   "metadata": {},
   "outputs": [
    {
     "data": {
      "text/html": [
       "<div>\n",
       "<style scoped>\n",
       "    .dataframe tbody tr th:only-of-type {\n",
       "        vertical-align: middle;\n",
       "    }\n",
       "\n",
       "    .dataframe tbody tr th {\n",
       "        vertical-align: top;\n",
       "    }\n",
       "\n",
       "    .dataframe thead th {\n",
       "        text-align: right;\n",
       "    }\n",
       "</style>\n",
       "<table border=\"1\" class=\"dataframe\">\n",
       "  <thead>\n",
       "    <tr style=\"text-align: right;\">\n",
       "      <th></th>\n",
       "      <th>side_effect_type</th>\n",
       "      <th>bin</th>\n",
       "      <th>num_pos_edges</th>\n",
       "      <th>num_neg_edges</th>\n",
       "      <th>AUROC</th>\n",
       "      <th>AUPRC</th>\n",
       "    </tr>\n",
       "  </thead>\n",
       "  <tbody>\n",
       "    <tr>\n",
       "      <th>1</th>\n",
       "      <td>(drug, side_effect_0, drug)</td>\n",
       "      <td>2</td>\n",
       "      <td>1929</td>\n",
       "      <td>729</td>\n",
       "      <td>0.864315</td>\n",
       "      <td>0.927842</td>\n",
       "    </tr>\n",
       "    <tr>\n",
       "      <th>4</th>\n",
       "      <td>(drug, side_effect_1, drug)</td>\n",
       "      <td>2</td>\n",
       "      <td>3101</td>\n",
       "      <td>1251</td>\n",
       "      <td>0.857507</td>\n",
       "      <td>0.919778</td>\n",
       "    </tr>\n",
       "    <tr>\n",
       "      <th>7</th>\n",
       "      <td>(drug, side_effect_2, drug)</td>\n",
       "      <td>2</td>\n",
       "      <td>435</td>\n",
       "      <td>167</td>\n",
       "      <td>0.905981</td>\n",
       "      <td>0.954101</td>\n",
       "    </tr>\n",
       "    <tr>\n",
       "      <th>10</th>\n",
       "      <td>(drug, side_effect_3, drug)</td>\n",
       "      <td>2</td>\n",
       "      <td>224</td>\n",
       "      <td>98</td>\n",
       "      <td>0.908801</td>\n",
       "      <td>0.952289</td>\n",
       "    </tr>\n",
       "    <tr>\n",
       "      <th>13</th>\n",
       "      <td>(drug, side_effect_4, drug)</td>\n",
       "      <td>2</td>\n",
       "      <td>1119</td>\n",
       "      <td>414</td>\n",
       "      <td>0.918356</td>\n",
       "      <td>0.955845</td>\n",
       "    </tr>\n",
       "    <tr>\n",
       "      <th>...</th>\n",
       "      <td>...</td>\n",
       "      <td>...</td>\n",
       "      <td>...</td>\n",
       "      <td>...</td>\n",
       "      <td>...</td>\n",
       "      <td>...</td>\n",
       "    </tr>\n",
       "    <tr>\n",
       "      <th>3277</th>\n",
       "      <td>(drug, side_effect_1092, drug)</td>\n",
       "      <td>2</td>\n",
       "      <td>458</td>\n",
       "      <td>168</td>\n",
       "      <td>0.869399</td>\n",
       "      <td>0.930931</td>\n",
       "    </tr>\n",
       "    <tr>\n",
       "      <th>3280</th>\n",
       "      <td>(drug, side_effect_1093, drug)</td>\n",
       "      <td>2</td>\n",
       "      <td>196</td>\n",
       "      <td>76</td>\n",
       "      <td>0.913534</td>\n",
       "      <td>0.959405</td>\n",
       "    </tr>\n",
       "    <tr>\n",
       "      <th>3283</th>\n",
       "      <td>(drug, side_effect_1094, drug)</td>\n",
       "      <td>2</td>\n",
       "      <td>989</td>\n",
       "      <td>373</td>\n",
       "      <td>0.859405</td>\n",
       "      <td>0.922249</td>\n",
       "    </tr>\n",
       "    <tr>\n",
       "      <th>3286</th>\n",
       "      <td>(drug, side_effect_1095, drug)</td>\n",
       "      <td>2</td>\n",
       "      <td>81</td>\n",
       "      <td>30</td>\n",
       "      <td>0.944033</td>\n",
       "      <td>0.980641</td>\n",
       "    </tr>\n",
       "    <tr>\n",
       "      <th>3289</th>\n",
       "      <td>(drug, side_effect_1096, drug)</td>\n",
       "      <td>2</td>\n",
       "      <td>111</td>\n",
       "      <td>41</td>\n",
       "      <td>0.927928</td>\n",
       "      <td>0.968103</td>\n",
       "    </tr>\n",
       "  </tbody>\n",
       "</table>\n",
       "<p>1097 rows × 6 columns</p>\n",
       "</div>"
      ],
      "text/plain": [
       "                    side_effect_type  bin  num_pos_edges  num_neg_edges  \\\n",
       "1        (drug, side_effect_0, drug)    2           1929            729   \n",
       "4        (drug, side_effect_1, drug)    2           3101           1251   \n",
       "7        (drug, side_effect_2, drug)    2            435            167   \n",
       "10       (drug, side_effect_3, drug)    2            224             98   \n",
       "13       (drug, side_effect_4, drug)    2           1119            414   \n",
       "...                              ...  ...            ...            ...   \n",
       "3277  (drug, side_effect_1092, drug)    2            458            168   \n",
       "3280  (drug, side_effect_1093, drug)    2            196             76   \n",
       "3283  (drug, side_effect_1094, drug)    2            989            373   \n",
       "3286  (drug, side_effect_1095, drug)    2             81             30   \n",
       "3289  (drug, side_effect_1096, drug)    2            111             41   \n",
       "\n",
       "         AUROC     AUPRC  \n",
       "1     0.864315  0.927842  \n",
       "4     0.857507  0.919778  \n",
       "7     0.905981  0.954101  \n",
       "10    0.908801  0.952289  \n",
       "13    0.918356  0.955845  \n",
       "...        ...       ...  \n",
       "3277  0.869399  0.930931  \n",
       "3280  0.913534  0.959405  \n",
       "3283  0.859405  0.922249  \n",
       "3286  0.944033  0.980641  \n",
       "3289  0.927928  0.968103  \n",
       "\n",
       "[1097 rows x 6 columns]"
      ]
     },
     "execution_count": 89,
     "metadata": {},
     "output_type": "execute_result"
    }
   ],
   "source": [
    "# bin2 = df[((df['num_pos_edges'] - df['num_neg_edges']).between(-150,150)) &\n",
    "#           (df['bin'] == 2) &\n",
    "#           (df['num_pos_edges'] > 100) &\n",
    "#           (df['num_neg_edges'] > 100)\n",
    "#         ]\n",
    "# bin2 = df[(df['bin'] == 2) &\n",
    "#           (df['num_pos_edges'] > df['num_neg_edges'])\n",
    "#         ]\n",
    "bin2 = df[(df['bin'] == 2)]\n",
    "bin2"
   ]
  },
  {
   "cell_type": "code",
   "execution_count": 90,
   "id": "f1649b4b-2710-4e5b-bca4-592c86d134f3",
   "metadata": {},
   "outputs": [
    {
     "name": "stdout",
     "output_type": "stream",
     "text": [
      "0.9029276310053816\n"
     ]
    },
    {
     "data": {
      "text/plain": [
       "0.9461732804650232"
      ]
     },
     "execution_count": 90,
     "metadata": {},
     "output_type": "execute_result"
    }
   ],
   "source": [
    "print(bin2['AUROC'].mean())\n",
    "bin2['AUPRC'].mean()"
   ]
  },
  {
   "cell_type": "code",
   "execution_count": 91,
   "id": "c43def05-432a-44e4-bc30-b1166a9e4c05",
   "metadata": {},
   "outputs": [
    {
     "data": {
      "text/html": [
       "<div>\n",
       "<style scoped>\n",
       "    .dataframe tbody tr th:only-of-type {\n",
       "        vertical-align: middle;\n",
       "    }\n",
       "\n",
       "    .dataframe tbody tr th {\n",
       "        vertical-align: top;\n",
       "    }\n",
       "\n",
       "    .dataframe thead th {\n",
       "        text-align: right;\n",
       "    }\n",
       "</style>\n",
       "<table border=\"1\" class=\"dataframe\">\n",
       "  <thead>\n",
       "    <tr style=\"text-align: right;\">\n",
       "      <th></th>\n",
       "      <th>side_effect_type</th>\n",
       "      <th>bin</th>\n",
       "      <th>num_pos_edges</th>\n",
       "      <th>num_neg_edges</th>\n",
       "      <th>AUROC</th>\n",
       "      <th>AUPRC</th>\n",
       "    </tr>\n",
       "  </thead>\n",
       "  <tbody>\n",
       "    <tr>\n",
       "      <th>0</th>\n",
       "      <td>(drug, side_effect_0, drug)</td>\n",
       "      <td>0</td>\n",
       "      <td>80</td>\n",
       "      <td>889</td>\n",
       "      <td>0.957227</td>\n",
       "      <td>0.639805</td>\n",
       "    </tr>\n",
       "    <tr>\n",
       "      <th>3</th>\n",
       "      <td>(drug, side_effect_1, drug)</td>\n",
       "      <td>0</td>\n",
       "      <td>150</td>\n",
       "      <td>1537</td>\n",
       "      <td>0.955949</td>\n",
       "      <td>0.682291</td>\n",
       "    </tr>\n",
       "    <tr>\n",
       "      <th>6</th>\n",
       "      <td>(drug, side_effect_2, drug)</td>\n",
       "      <td>0</td>\n",
       "      <td>21</td>\n",
       "      <td>200</td>\n",
       "      <td>0.947143</td>\n",
       "      <td>0.733842</td>\n",
       "    </tr>\n",
       "    <tr>\n",
       "      <th>9</th>\n",
       "      <td>(drug, side_effect_3, drug)</td>\n",
       "      <td>0</td>\n",
       "      <td>21</td>\n",
       "      <td>97</td>\n",
       "      <td>0.864507</td>\n",
       "      <td>0.775727</td>\n",
       "    </tr>\n",
       "    <tr>\n",
       "      <th>12</th>\n",
       "      <td>(drug, side_effect_4, drug)</td>\n",
       "      <td>0</td>\n",
       "      <td>29</td>\n",
       "      <td>488</td>\n",
       "      <td>0.952586</td>\n",
       "      <td>0.577759</td>\n",
       "    </tr>\n",
       "    <tr>\n",
       "      <th>...</th>\n",
       "      <td>...</td>\n",
       "      <td>...</td>\n",
       "      <td>...</td>\n",
       "      <td>...</td>\n",
       "      <td>...</td>\n",
       "      <td>...</td>\n",
       "    </tr>\n",
       "    <tr>\n",
       "      <th>3276</th>\n",
       "      <td>(drug, side_effect_1092, drug)</td>\n",
       "      <td>0</td>\n",
       "      <td>20</td>\n",
       "      <td>180</td>\n",
       "      <td>0.991944</td>\n",
       "      <td>0.919294</td>\n",
       "    </tr>\n",
       "    <tr>\n",
       "      <th>3279</th>\n",
       "      <td>(drug, side_effect_1093, drug)</td>\n",
       "      <td>0</td>\n",
       "      <td>3</td>\n",
       "      <td>75</td>\n",
       "      <td>0.862222</td>\n",
       "      <td>0.691474</td>\n",
       "    </tr>\n",
       "    <tr>\n",
       "      <th>3282</th>\n",
       "      <td>(drug, side_effect_1094, drug)</td>\n",
       "      <td>0</td>\n",
       "      <td>35</td>\n",
       "      <td>437</td>\n",
       "      <td>0.966721</td>\n",
       "      <td>0.779724</td>\n",
       "    </tr>\n",
       "    <tr>\n",
       "      <th>3285</th>\n",
       "      <td>(drug, side_effect_1095, drug)</td>\n",
       "      <td>0</td>\n",
       "      <td>3</td>\n",
       "      <td>29</td>\n",
       "      <td>1.000000</td>\n",
       "      <td>1.000000</td>\n",
       "    </tr>\n",
       "    <tr>\n",
       "      <th>3288</th>\n",
       "      <td>(drug, side_effect_1096, drug)</td>\n",
       "      <td>0</td>\n",
       "      <td>1</td>\n",
       "      <td>36</td>\n",
       "      <td>1.000000</td>\n",
       "      <td>1.000000</td>\n",
       "    </tr>\n",
       "  </tbody>\n",
       "</table>\n",
       "<p>1097 rows × 6 columns</p>\n",
       "</div>"
      ],
      "text/plain": [
       "                    side_effect_type  bin  num_pos_edges  num_neg_edges  \\\n",
       "0        (drug, side_effect_0, drug)    0             80            889   \n",
       "3        (drug, side_effect_1, drug)    0            150           1537   \n",
       "6        (drug, side_effect_2, drug)    0             21            200   \n",
       "9        (drug, side_effect_3, drug)    0             21             97   \n",
       "12       (drug, side_effect_4, drug)    0             29            488   \n",
       "...                              ...  ...            ...            ...   \n",
       "3276  (drug, side_effect_1092, drug)    0             20            180   \n",
       "3279  (drug, side_effect_1093, drug)    0              3             75   \n",
       "3282  (drug, side_effect_1094, drug)    0             35            437   \n",
       "3285  (drug, side_effect_1095, drug)    0              3             29   \n",
       "3288  (drug, side_effect_1096, drug)    0              1             36   \n",
       "\n",
       "         AUROC     AUPRC  \n",
       "0     0.957227  0.639805  \n",
       "3     0.955949  0.682291  \n",
       "6     0.947143  0.733842  \n",
       "9     0.864507  0.775727  \n",
       "12    0.952586  0.577759  \n",
       "...        ...       ...  \n",
       "3276  0.991944  0.919294  \n",
       "3279  0.862222  0.691474  \n",
       "3282  0.966721  0.779724  \n",
       "3285  1.000000  1.000000  \n",
       "3288  1.000000  1.000000  \n",
       "\n",
       "[1097 rows x 6 columns]"
      ]
     },
     "execution_count": 91,
     "metadata": {},
     "output_type": "execute_result"
    }
   ],
   "source": [
    "# bin0 = df[((df['num_pos_edges'] - df['num_neg_edges']).between(-50,50)) &\n",
    "#           (df['bin'] == 0) &\n",
    "#           (df['num_pos_edges'] > 0)\n",
    "#         ]\n",
    "bin0 = df[(df['bin'] == 0) &\n",
    "          (df['num_pos_edges'] < df['num_neg_edges'])\n",
    "        ]\n",
    "#bin0 = df[(df['bin'] == 0)]\n",
    "bin0"
   ]
  },
  {
   "cell_type": "code",
   "execution_count": 92,
   "id": "0fe00a42-2596-465d-84de-5ec6e31aabef",
   "metadata": {},
   "outputs": [
    {
     "name": "stdout",
     "output_type": "stream",
     "text": [
      "0.9661874632516512\n"
     ]
    },
    {
     "data": {
      "text/plain": [
       "0.7458262194043052"
      ]
     },
     "execution_count": 92,
     "metadata": {},
     "output_type": "execute_result"
    }
   ],
   "source": [
    "print(bin0['AUROC'].mean())\n",
    "bin0['AUPRC'].mean()"
   ]
  },
  {
   "cell_type": "code",
   "execution_count": null,
   "id": "e3875277-32e8-4399-80f5-07c04edf300f",
   "metadata": {},
   "outputs": [],
   "source": []
  }
 ],
 "metadata": {
  "kernelspec": {
   "display_name": "Python 3 (ipykernel)",
   "language": "python",
   "name": "python3"
  },
  "language_info": {
   "codemirror_mode": {
    "name": "ipython",
    "version": 3
   },
   "file_extension": ".py",
   "mimetype": "text/x-python",
   "name": "python",
   "nbconvert_exporter": "python",
   "pygments_lexer": "ipython3",
   "version": "3.9.0"
  }
 },
 "nbformat": 4,
 "nbformat_minor": 5
}
