{
 "cells": [
  {
   "cell_type": "code",
   "execution_count": 2,
   "id": "6e120c04-d4d8-4f06-8086-5448efcfee8e",
   "metadata": {},
   "outputs": [],
   "source": [
    "import matplotlib.pyplot as plt\n",
    "import pickle\n",
    "import numpy as np\n",
    "import csv\n",
    "import torch\n",
    "import pandas as pd\n",
    "import scipy.sparse as sp\n",
    "import plotly"
   ]
  },
  {
   "cell_type": "code",
   "execution_count": 3,
   "id": "3d6d0eaf-23fa-4181-92a7-58a316e12b70",
   "metadata": {},
   "outputs": [],
   "source": [
    "import sys\n",
    "import os\n",
    "\n",
    "module_path = os.path.abspath(os.path.join('..'))\n",
    "if module_path not in sys.path:\n",
    "    sys.path.append(module_path)"
   ]
  },
  {
   "cell_type": "code",
   "execution_count": 4,
   "id": "c7ee6332-122d-483a-a9ea-a3923da897d9",
   "metadata": {},
   "outputs": [],
   "source": [
    "#model_type = ''\n",
    "model_type = '_ppionly'\n",
    "auprc_list = []\n",
    "auroc_list = []\n",
    "\n",
    "with open(f'../../saved_records/record_v_full_final_0{model_type}.pkl', 'rb') as f:\n",
    "    rec = pickle.load(f)\n",
    "    auprc_list.append(rec[0])\n",
    "    auroc_list.append(rec[1])\n",
    "with open(f'../../saved_records/record_v_full_final_1{model_type}.pkl', 'rb') as f:\n",
    "    rec = pickle.load(f)\n",
    "    auprc_list.append(rec[0])\n",
    "    auroc_list.append(rec[1])\n",
    "with open(f'../../saved_records/record_v_full_final_2{model_type}.pkl', 'rb') as f:\n",
    "    rec = pickle.load(f)\n",
    "    auprc_list.append(rec[0])\n",
    "    auroc_list.append(rec[1])\n",
    "with open(f'../../saved_records/record_v_full_final_3{model_type}.pkl', 'rb') as f:\n",
    "    rec = pickle.load(f)\n",
    "    auprc_list.append(rec[0])\n",
    "    auroc_list.append(rec[1])\n",
    "with open(f'../../saved_records/record_v_full_final_4{model_type}.pkl', 'rb') as f:\n",
    "    rec = pickle.load(f)\n",
    "    auprc_list.append(rec[0])\n",
    "    auroc_list.append(rec[1])\n",
    "with open(f'../../saved_records/record_v_full_final_5{model_type}.pkl', 'rb') as f:\n",
    "    rec = pickle.load(f)\n",
    "    auprc_list.append(rec[0])\n",
    "    auroc_list.append(rec[1])\n",
    "with open(f'../../saved_records/record_v_full_final_6{model_type}.pkl', 'rb') as f:\n",
    "    rec = pickle.load(f)\n",
    "    auprc_list.append(rec[0])\n",
    "    auroc_list.append(rec[1])\n",
    "with open(f'../../saved_records/record_v_full_final_7{model_type}.pkl', 'rb') as f:\n",
    "    rec = pickle.load(f)\n",
    "    auprc_list.append(rec[0])\n",
    "    auroc_list.append(rec[1])\n",
    "with open(f'../../saved_records/record_v_full_final_8{model_type}.pkl', 'rb') as f:\n",
    "    rec = pickle.load(f)\n",
    "    auprc_list.append(rec[0])\n",
    "    auroc_list.append(rec[1])\n",
    "with open(f'../../saved_records/record_v_full_final_9{model_type}.pkl', 'rb') as f:\n",
    "    rec = pickle.load(f)\n",
    "    auprc_list.append(rec[0])\n",
    "    auroc_list.append(rec[1])"
   ]
  },
  {
   "cell_type": "code",
   "execution_count": 5,
   "id": "9079dbf2-d9db-48bd-b94b-5428cfccb58b",
   "metadata": {},
   "outputs": [
    {
     "data": {
      "text/plain": [
       "[0.9411634700394804,\n",
       " 0.9409030734208041,\n",
       " 0.9417949971437818,\n",
       " 0.9424064548315829,\n",
       " 0.9407314889860718,\n",
       " 0.9415742054978404,\n",
       " 0.9429166033354466,\n",
       " 0.9413548292325397,\n",
       " 0.9405261629656115,\n",
       " 0.9414216346194799]"
      ]
     },
     "execution_count": 5,
     "metadata": {},
     "output_type": "execute_result"
    }
   ],
   "source": [
    "auprc_list_mean = []\n",
    "auroc_list_mean = []\n",
    "for auprc, auroc in zip(auprc_list, auroc_list):\n",
    "    auprc_list_mean.append(auprc.mean())\n",
    "    auroc_list_mean.append(auroc.mean())\n",
    "auroc_list_mean  "
   ]
  },
  {
   "cell_type": "code",
   "execution_count": 6,
   "id": "adab3b01-b984-4fb3-be35-04155fbf50f9",
   "metadata": {},
   "outputs": [
    {
     "name": "stdout",
     "output_type": "stream",
     "text": [
      "0.925% (+/- 0.001%)\n",
      "0.941% (+/- 0.001%)\n"
     ]
    }
   ],
   "source": [
    "print(\"%.3f%% (+/- %.3f%%)\" % (np.mean(auprc_list_mean), np.std(auprc_list_mean)))\n",
    "print(\"%.3f%% (+/- %.3f%%)\" % (np.mean(auroc_list_mean), np.std(auroc_list_mean)))"
   ]
  }
 ],
 "metadata": {
  "kernelspec": {
   "display_name": "Python 3 (ipykernel)",
   "language": "python",
   "name": "python3"
  },
  "language_info": {
   "codemirror_mode": {
    "name": "ipython",
    "version": 3
   },
   "file_extension": ".py",
   "mimetype": "text/x-python",
   "name": "python",
   "nbconvert_exporter": "python",
   "pygments_lexer": "ipython3",
   "version": "3.9.0"
  }
 },
 "nbformat": 4,
 "nbformat_minor": 5
}
